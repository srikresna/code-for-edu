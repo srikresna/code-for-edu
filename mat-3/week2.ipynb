{
 "cells": [
  {
   "cell_type": "markdown",
   "metadata": {},
   "source": [
    "<h1> Eucladean Distance"
   ]
  },
  {
   "cell_type": "code",
   "execution_count": 7,
   "metadata": {},
   "outputs": [],
   "source": [
    "# import eucladean distance function\n",
    "from scipy.spatial import distance\n",
    "import numpy as np"
   ]
  },
  {
   "cell_type": "code",
   "execution_count": 2,
   "metadata": {},
   "outputs": [
    {
     "name": "stdout",
     "output_type": "stream",
     "text": [
      "Euclidean distance between p1 and p2 is:  4.242640687119285\n"
     ]
    }
   ],
   "source": [
    "p1 = (1, 2)\n",
    "p2 = (4 ,5)\n",
    "\n",
    "d = distance.euclidean(p1, p2)\n",
    "print(\"Euclidean distance between p1 and p2 is: \", d)"
   ]
  },
  {
   "cell_type": "code",
   "execution_count": 3,
   "metadata": {},
   "outputs": [
    {
     "name": "stdout",
     "output_type": "stream",
     "text": [
      "Euclidean distance between A and B is:  2.8284271247461903\n",
      "Euclidean distance between C and D is:  5.830951894845301\n",
      "Euclidean distance between E and F is:  3.1622776601683795\n"
     ]
    }
   ],
   "source": [
    "A = (2, 3)\n",
    "B = (4, 1)\n",
    "C = (6, 2)\n",
    "D = (9, 7)\n",
    "E = (3 ,4)\n",
    "F = (6, 5)\n",
    "\n",
    "d1 = distance.euclidean(A, B)\n",
    "d2 = distance.euclidean(C, D)\n",
    "d3 = distance.euclidean(E, F)\n",
    "\n",
    "print(\"Euclidean distance between A and B is: \", d1)\n",
    "print(\"Euclidean distance between C and D is: \", d2)\n",
    "print(\"Euclidean distance between E and F is: \", d3)"
   ]
  },
  {
   "cell_type": "code",
   "execution_count": 9,
   "metadata": {},
   "outputs": [],
   "source": [
    "appendix = {\n",
    "    \"A\" : (2, 4),\n",
    "    \"B\" : (3, 6),\n",
    "    \"C\" : (5, 3),\n",
    "    \"D\" : (7, 1),\n",
    "    \"E\" : (6, 8)\n",
    "}\n"
   ]
  },
  {
   "cell_type": "code",
   "execution_count": 10,
   "metadata": {},
   "outputs": [
    {
     "name": "stdout",
     "output_type": "stream",
     "text": [
      "Euclidean distance between A and B is:  2.23606797749979\n",
      "Euclidean distance between A and C is:  3.1622776601683795\n",
      "Euclidean distance between A and D is:  5.830951894845301\n",
      "Euclidean distance between A and E is:  5.656854249492381\n"
     ]
    }
   ],
   "source": [
    "d1 = distance.euclidean(appendix[\"A\"], appendix[\"B\"])\n",
    "d2 = distance.euclidean(appendix[\"A\"], appendix[\"C\"])\n",
    "d3 = distance.euclidean(appendix[\"A\"], appendix[\"D\"])\n",
    "d4 = distance.euclidean(appendix[\"A\"], appendix[\"E\"])\n",
    "\n",
    "print(\"Euclidean distance between A and B is: \", d1)\n",
    "print(\"Euclidean distance between A and C is: \", d2)\n",
    "print(\"Euclidean distance between A and D is: \", d3)\n",
    "print(\"Euclidean distance between A and E is: \", d4)"
   ]
  },
  {
   "cell_type": "code",
   "execution_count": 6,
   "metadata": {},
   "outputs": [
    {
     "name": "stdout",
     "output_type": "stream",
     "text": [
      "Euclidean distance between A and B is:  2.23606797749979\n",
      "Euclidean distance between A and C is:  3.1622776601683795\n",
      "Euclidean distance between A and D is:  5.830951894845301\n",
      "Euclidean distance between A and E is:  5.656854249492381\n",
      "Euclidean distance between B and A is:  2.23606797749979\n",
      "Euclidean distance between B and C is:  3.605551275463989\n",
      "Euclidean distance between B and D is:  6.4031242374328485\n",
      "Euclidean distance between B and E is:  3.605551275463989\n",
      "Euclidean distance between C and A is:  3.1622776601683795\n",
      "Euclidean distance between C and B is:  3.605551275463989\n",
      "Euclidean distance between C and D is:  2.8284271247461903\n",
      "Euclidean distance between C and E is:  5.0990195135927845\n",
      "Euclidean distance between D and A is:  5.830951894845301\n",
      "Euclidean distance between D and B is:  6.4031242374328485\n",
      "Euclidean distance between D and C is:  2.8284271247461903\n",
      "Euclidean distance between D and E is:  7.0710678118654755\n",
      "Euclidean distance between E and A is:  5.656854249492381\n",
      "Euclidean distance between E and B is:  3.605551275463989\n",
      "Euclidean distance between E and C is:  5.0990195135927845\n",
      "Euclidean distance between E and D is:  7.0710678118654755\n"
     ]
    }
   ],
   "source": [
    "for i in appendix:\n",
    "    for j in appendix:\n",
    "        if i != j:\n",
    "            d = distance.euclidean(appendix[i], appendix[j])\n",
    "            print(\"Euclidean distance between\", i, \"and\", j, \"is: \", d)"
   ]
  },
  {
   "cell_type": "markdown",
   "metadata": {},
   "source": [
    "<h1> Manhattan distance"
   ]
  },
  {
   "cell_type": "code",
   "execution_count": 8,
   "metadata": {},
   "outputs": [
    {
     "name": "stdout",
     "output_type": "stream",
     "text": [
      "Cityblock distance between array1 and array2 is:  36\n"
     ]
    }
   ],
   "source": [
    "def cityblock_distance(A, B):\n",
    "    result = np.sum([abs(a - b) for (a, b) in zip(A, B)])\n",
    "    return result\n",
    "\n",
    "if __name__ == \"__main__\":\n",
    "    array1 = [1, 2, 13, 5]\n",
    "    array2 = [1, 27, 3, 4]\n",
    "\n",
    "    result = cityblock_distance(array1, array2)\n",
    "    print(\"Cityblock distance between array1 and array2 is: \", result)"
   ]
  },
  {
   "cell_type": "code",
   "execution_count": 5,
   "metadata": {},
   "outputs": [
    {
     "name": "stdout",
     "output_type": "stream",
     "text": [
      "Manhattan distance between A and B is:  3\n",
      "Manhattan distance between A and C is:  4\n",
      "Manhattan distance between A and D is:  8\n",
      "Manhattan distance between A and E is:  8\n"
     ]
    }
   ],
   "source": [
    "d_manhattan1 = distance.cityblock(appendix[\"A\"], appendix[\"B\"])\n",
    "d_manhattan2 = distance.cityblock(appendix[\"A\"], appendix[\"C\"])\n",
    "d_manhattan3 = distance.cityblock(appendix[\"A\"], appendix[\"D\"])\n",
    "d_manhattan4 = distance.cityblock(appendix[\"A\"], appendix[\"E\"])\n",
    "\n",
    "print(\"Manhattan distance between A and B is: \", d_manhattan1)\n",
    "print(\"Manhattan distance between A and C is: \", d_manhattan2)\n",
    "print(\"Manhattan distance between A and D is: \", d_manhattan3)\n",
    "print(\"Manhattan distance between A and E is: \", d_manhattan4)"
   ]
  }
 ],
 "metadata": {
  "kernelspec": {
   "display_name": "Python 3",
   "language": "python",
   "name": "python3"
  },
  "language_info": {
   "codemirror_mode": {
    "name": "ipython",
    "version": 3
   },
   "file_extension": ".py",
   "mimetype": "text/x-python",
   "name": "python",
   "nbconvert_exporter": "python",
   "pygments_lexer": "ipython3",
   "version": "3.10.10"
  },
  "orig_nbformat": 4
 },
 "nbformat": 4,
 "nbformat_minor": 2
}

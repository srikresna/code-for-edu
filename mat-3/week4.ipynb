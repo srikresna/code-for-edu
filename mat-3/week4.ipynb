{
 "cells": [
  {
   "cell_type": "code",
   "execution_count": 1,
   "metadata": {},
   "outputs": [
    {
     "name": "stdout",
     "output_type": "stream",
     "text": [
      "Mean:  69.0\n",
      "Median:  70.0\n",
      "Mode:  60\n"
     ]
    }
   ],
   "source": [
    "import numpy as np\n",
    "import statistics as sc\n",
    "\n",
    "\n",
    "nilai = [75, 70, 60, 54, 60, 80, 60, 80, 95, 70, 55]\n",
    "\n",
    "x = np.mean(nilai)\n",
    "y = np.median(nilai)\n",
    "z = sc.mode(nilai)\n",
    "\n",
    "print(\"Mean: \", x)\n",
    "print(\"Median: \", y)\n",
    "print(\"Mode: \", z)"
   ]
  }
 ],
 "metadata": {
  "kernelspec": {
   "display_name": "base",
   "language": "python",
   "name": "python3"
  },
  "language_info": {
   "codemirror_mode": {
    "name": "ipython",
    "version": 3
   },
   "file_extension": ".py",
   "mimetype": "text/x-python",
   "name": "python",
   "nbconvert_exporter": "python",
   "pygments_lexer": "ipython3",
   "version": "3.10.10"
  },
  "orig_nbformat": 4
 },
 "nbformat": 4,
 "nbformat_minor": 2
}

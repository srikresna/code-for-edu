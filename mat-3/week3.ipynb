{
 "cells": [
  {
   "cell_type": "markdown",
   "metadata": {},
   "source": [
    "<h2> Hamming Distance"
   ]
  },
  {
   "cell_type": "code",
   "execution_count": 6,
   "metadata": {},
   "outputs": [
    {
     "name": "stdout",
     "output_type": "stream",
     "text": [
      "3\n"
     ]
    }
   ],
   "source": [
    "# Function to calculate hamming distance\n",
    "def hammingDistance1(n1, n2):\n",
    "    x = n1 ^ n2\n",
    "    setBits = 0\n",
    "\n",
    "    while (x > 0):\n",
    "        setBits += x & 1\n",
    "        x >>= 1\n",
    "\n",
    "    return setBits\n",
    "\n",
    "if __name__ == '__main__':\n",
    "    n1 = 9\n",
    "    n2 = 14\n",
    "\n",
    "    print(hammingDistance1(n1, n2))\n",
    "\n"
   ]
  },
  {
   "cell_type": "markdown",
   "metadata": {},
   "source": [
    "9 = 1001, 14 = 1110\n",
    "\n",
    "1001 XOR 1110\n",
    "\n",
    "No. of different bits = 3"
   ]
  },
  {
   "cell_type": "code",
   "execution_count": 17,
   "metadata": {},
   "outputs": [
    {
     "name": "stdout",
     "output_type": "stream",
     "text": [
      "2\n"
     ]
    }
   ],
   "source": [
    "def hammingDistance2(x, y):\n",
    "\n",
    "    ans = 0\n",
    "    m = max(x, y)\n",
    "    while (m):\n",
    "        c1 = x & 1\n",
    "        c2 = y & 1\n",
    "        if (c1 != c2):\n",
    "            ans += 1\n",
    "        m = m >> 1\n",
    "        x = x >> 1\n",
    "        y = y >> 1\n",
    "    return ans\n",
    "\n",
    "\n",
    "# driver program\n",
    "n1 = 4\n",
    "n2 = 8\n",
    "hdist = hammingDistance2(n1, n2)\n",
    "print(hdist)"
   ]
  },
  {
   "cell_type": "markdown",
   "metadata": {},
   "source": [
    "4 = 100\n",
    "8 = 1000\n",
    "\n",
    "100 XOR 1000 = 2"
   ]
  },
  {
   "cell_type": "code",
   "execution_count": 24,
   "metadata": {},
   "outputs": [],
   "source": [
    "#method hamming distance from 2 string\n",
    "def hammingDistance3(str1, str2):\n",
    "    i = 0\n",
    "    count = 0\n",
    "\n",
    "    while (i < len(str1)):\n",
    "        if (str1[i] != str2[i]):\n",
    "            count += 1\n",
    "        i += 1\n",
    "    return count"
   ]
  },
  {
   "cell_type": "markdown",
   "metadata": {},
   "source": [
    "- BEEN XOR BEAN\n",
    "\n",
    "- CEREAL XOR SERIAL\n",
    "\n",
    "- Hamming distance from 10 and 15\n",
    "\n",
    "- Hamming distance from 6 and 11\n"
   ]
  },
  {
   "cell_type": "code",
   "execution_count": 23,
   "metadata": {},
   "outputs": [
    {
     "name": "stdout",
     "output_type": "stream",
     "text": [
      "1\n",
      "2\n",
      "2\n",
      "3\n"
     ]
    }
   ],
   "source": [
    "print(hammingDistance3(\"BEEN\", \"BEAN\"))\n",
    "\n",
    "print(hammingDistance3(\"CEREAL\", \"SERIAL\"))\n",
    "\n",
    "print(hammingDistance2(10, 15))\n",
    "\n",
    "print(hammingDistance2(6, 11))\n",
    "\n"
   ]
  },
  {
   "cell_type": "markdown",
   "metadata": {},
   "source": [
    "<h2> Minkowski Distance"
   ]
  },
  {
   "cell_type": "code",
   "execution_count": 31,
   "metadata": {},
   "outputs": [
    {
     "name": "stdout",
     "output_type": "stream",
     "text": [
      "using minkowski distance : \n",
      "13.0\n",
      "6.082762530298219\n",
      "Euclidean distance:  6.082762530298219\n",
      "Manhattan distance:  13\n"
     ]
    }
   ],
   "source": [
    "# calculating minkowski distance between vectors\n",
    "from math import sqrt\n",
    "from scipy.spatial import distance\n",
    "\n",
    "# calculate minkowski distance\n",
    "def minkowski_distance(a, b, p):\n",
    "    return sum(abs(e1-e2)**p for e1, e2 in zip(a,b))**(1/p)\n",
    "\n",
    "# define data\n",
    "row1 = [10, 20, 15, 10, 5]\n",
    "row2 = [12, 24, 18, 8, 7]\n",
    "\n",
    "print(\"using minkowski distance : \")\n",
    "# calculate distance (p=1)\n",
    "dist = minkowski_distance(row1, row2, 1)\n",
    "print(dist)\n",
    "# calculate distance (p=2)\n",
    "dist = minkowski_distance(row1, row2, 2)\n",
    "print(dist)\n",
    "\n",
    "\n",
    "# check with distance library \n",
    "# calculate distance with scipy\n",
    "dist = distance.euclidean(row1, row2)\n",
    "print(\"Euclidean distance: \", dist)\n",
    "dist = distance.cityblock(row1, row2)\n",
    "print(\"Manhattan distance: \", dist)\n"
   ]
  },
  {
   "cell_type": "code",
   "execution_count": null,
   "metadata": {},
   "outputs": [],
   "source": []
  },
  {
   "cell_type": "code",
   "execution_count": null,
   "metadata": {},
   "outputs": [],
   "source": [
    "\n",
    "\n"
   ]
  }
 ],
 "metadata": {
  "kernelspec": {
   "display_name": "base",
   "language": "python",
   "name": "python3"
  },
  "language_info": {
   "codemirror_mode": {
    "name": "ipython",
    "version": 3
   },
   "file_extension": ".py",
   "mimetype": "text/x-python",
   "name": "python",
   "nbconvert_exporter": "python",
   "pygments_lexer": "ipython3",
   "version": "3.10.10"
  },
  "orig_nbformat": 4
 },
 "nbformat": 4,
 "nbformat_minor": 2
}

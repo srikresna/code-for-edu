{
  "nbformat": 4,
  "nbformat_minor": 0,
  "metadata": {
    "colab": {
      "provenance": []
    },
    "kernelspec": {
      "name": "python3",
      "display_name": "Python 3"
    },
    "language_info": {
      "name": "python"
    }
  },
  "cells": [
    {
      "cell_type": "code",
      "execution_count": 9,
      "metadata": {
        "colab": {
          "base_uri": "https://localhost:8080/"
        },
        "id": "rkrPW9u0JUUd",
        "outputId": "b0e407b6-b834-4864-be26-ce5b8c77bdd7"
      },
      "outputs": [
        {
          "output_type": "stream",
          "name": "stdout",
          "text": [
            "Mean: 20.32\n",
            "Median: 19.5\n",
            "Mode: 24\n",
            "Range: 38\n",
            "Variance: 68.69759999999998\n",
            "Standard Deviation: 8.288401534674824\n",
            "Q1: 14.25\n",
            "Q3: 24.0\n",
            "IQR: 9.75\n",
            "Shifted Data: [10, 11, 13, 13, 14, 14, 15, 15, 15, 15, 16, 16, 17, 18, 18, 18, 19, 19, 19, 19, 20, 20, 21, 21, 22, 23, 23, 24, 24, 24, 24, 25, 25, 27, 27, 27, 27, 27, 29, 30, 31, 32, 32, 32, 34, 35, 36, 38, 44, 48]\n",
            "Scaled Data: [21, 24, 30, 30, 33, 33, 36, 36, 36, 36, 39, 39, 42, 45, 45, 45, 48, 48, 48, 48, 51, 51, 54, 54, 57, 60, 60, 63, 63, 63, 63, 66, 66, 72, 72, 72, 72, 72, 78, 81, 84, 87, 87, 87, 93, 96, 99, 105, 123, 135]\n"
          ]
        }
      ],
      "source": [
        "import numpy as np\n",
        "\n",
        "data = [\n",
        "    7, 8, 10, 10, 11,\n",
        "    11, 12, 12, 12, 12,\n",
        "    13, 13, 14, 15, 15,\n",
        "    15, 16, 16, 16, 16,\n",
        "    17, 17, 18, 18, 19,\n",
        "    20, 20, 21, 21, 21,\n",
        "    21, 22, 22, 24, 24,\n",
        "    24, 24, 24, 26, 27,\n",
        "    28, 29, 29, 29, 31,\n",
        "    32, 33, 35, 41, 45\n",
        "]\n",
        "\n",
        "total_data = len(data)\n",
        "\n",
        "# Mean\n",
        "mean = sum(data) / total_data\n",
        "\n",
        "# Median\n",
        "sorted_data = sorted(data)\n",
        "if total_data % 2 == 0:\n",
        "    median = (sorted_data[total_data // 2 - 1] + sorted_data[total_data // 2]) / 2\n",
        "else:\n",
        "    median = sorted_data[total_data // 2]\n",
        "\n",
        "# Mode\n",
        "mode = max(set(data), key=data.count)\n",
        "\n",
        "# Range\n",
        "range_data = max(data) - min(data)\n",
        "\n",
        "# Variance\n",
        "variance = sum((x - mean) ** 2 for x in data) / total_data\n",
        "\n",
        "# Standard Deviation\n",
        "std_dev = variance ** 0.5\n",
        "\n",
        "# IQR\n",
        "Q1 = np.percentile(data, 25)\n",
        "Q3 = np.percentile(data, 75)\n",
        "IQR = Q3 - Q1\n",
        "\n",
        "# Shifting data + 3\n",
        "shifted_data = [x + 3 for x in data]\n",
        "\n",
        "# Scaling data * 3\n",
        "scaled_data = [x * 3 for x in data]\n",
        "\n",
        "\n",
        "print(f\"Mean: {mean}\")\n",
        "print(f\"Median: {median}\")\n",
        "print(f\"Mode: {mode}\")\n",
        "print(f\"Range: {range_data}\")\n",
        "print(f\"Variance: {variance}\")\n",
        "print(f\"Standard Deviation: {std_dev}\")\n",
        "print(f\"Q1: {Q1}\")\n",
        "print(f\"Q3: {Q3}\")\n",
        "print(f\"IQR: {IQR}\")\n",
        "print(f\"Shifted Data: {shifted_data}\")\n",
        "print(f\"Scaled Data: {scaled_data}\")\n"
      ]
    }
  ]
}
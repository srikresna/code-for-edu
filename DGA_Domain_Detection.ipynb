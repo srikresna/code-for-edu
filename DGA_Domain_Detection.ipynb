{
  "nbformat": 4,
  "nbformat_minor": 0,
  "metadata": {
    "colab": {
      "provenance": [],
      "gpuType": "T4"
    },
    "language_info": {
      "name": "python"
    },
    "kernelspec": {
      "name": "python3",
      "display_name": "Python 3"
    },
    "accelerator": "GPU"
  },
  "cells": [
    {
      "cell_type": "code",
      "source": [
        "!pip install keras\n",
        "!pip install -U scikit-learn\n",
        "!pip install tldextract\n",
        "!pip install numpy\n",
        "!pip install h5py"
      ],
      "metadata": {
        "colab": {
          "base_uri": "https://localhost:8080/"
        },
        "id": "mxdPDiGoBb9E",
        "outputId": "fe99f0c3-baee-497b-caec-4221db134e62"
      },
      "execution_count": null,
      "outputs": [
        {
          "output_type": "stream",
          "name": "stdout",
          "text": [
            "Requirement already satisfied: keras in /usr/local/lib/python3.10/dist-packages (2.15.0)\n",
            "Requirement already satisfied: scikit-learn in /usr/local/lib/python3.10/dist-packages (1.4.1.post1)\n",
            "Requirement already satisfied: numpy<2.0,>=1.19.5 in /usr/local/lib/python3.10/dist-packages (from scikit-learn) (1.25.2)\n",
            "Requirement already satisfied: scipy>=1.6.0 in /usr/local/lib/python3.10/dist-packages (from scikit-learn) (1.11.4)\n",
            "Requirement already satisfied: joblib>=1.2.0 in /usr/local/lib/python3.10/dist-packages (from scikit-learn) (1.3.2)\n",
            "Requirement already satisfied: threadpoolctl>=2.0.0 in /usr/local/lib/python3.10/dist-packages (from scikit-learn) (3.3.0)\n",
            "Requirement already satisfied: tldextract in /usr/local/lib/python3.10/dist-packages (5.1.1)\n",
            "Requirement already satisfied: idna in /usr/local/lib/python3.10/dist-packages (from tldextract) (3.6)\n",
            "Requirement already satisfied: requests>=2.1.0 in /usr/local/lib/python3.10/dist-packages (from tldextract) (2.31.0)\n",
            "Requirement already satisfied: requests-file>=1.4 in /usr/local/lib/python3.10/dist-packages (from tldextract) (2.0.0)\n",
            "Requirement already satisfied: filelock>=3.0.8 in /usr/local/lib/python3.10/dist-packages (from tldextract) (3.13.1)\n",
            "Requirement already satisfied: charset-normalizer<4,>=2 in /usr/local/lib/python3.10/dist-packages (from requests>=2.1.0->tldextract) (3.3.2)\n",
            "Requirement already satisfied: urllib3<3,>=1.21.1 in /usr/local/lib/python3.10/dist-packages (from requests>=2.1.0->tldextract) (2.0.7)\n",
            "Requirement already satisfied: certifi>=2017.4.17 in /usr/local/lib/python3.10/dist-packages (from requests>=2.1.0->tldextract) (2024.2.2)\n",
            "Requirement already satisfied: numpy in /usr/local/lib/python3.10/dist-packages (1.25.2)\n",
            "Requirement already satisfied: h5py in /usr/local/lib/python3.10/dist-packages (3.9.0)\n",
            "Requirement already satisfied: numpy>=1.17.3 in /usr/local/lib/python3.10/dist-packages (from h5py) (1.25.2)\n"
          ]
        }
      ]
    },
    {
      "cell_type": "code",
      "source": [
        "from keras.preprocessing.sequence import pad_sequences\n",
        "from keras.models import Sequential, load_model\n",
        "from keras.layers import LSTM, Dense, Dropout, Activation, Embedding\n",
        "\n",
        "import pandas as pd\n",
        "\n",
        "from sklearn.model_selection import train_test_split\n",
        "from sklearn.metrics import confusion_matrix, roc_auc_score\n",
        "\n",
        "import tldextract\n",
        "import numpy as np\n",
        "\n",
        "import json"
      ],
      "metadata": {
        "id": "SmiOmdtwA8DS"
      },
      "execution_count": null,
      "outputs": []
    },
    {
      "cell_type": "code",
      "source": [
        "def open_data(path):\n",
        "  lines = open(path).readlines()\n",
        "  df = pd.DataFrame(lines, columns=[\"domain\"])\n",
        "  df['domain'] = df['domain'].str.strip()\n",
        "  return df\n",
        "\n",
        "legit_domains = open_data(\"./data/dataset_legit.txt\")\n",
        "dga_domains = open_data(\"./data/dataset_dga.txt\")\n",
        "print(legit_domains)\n",
        "print(dga_domains)"
      ],
      "metadata": {
        "colab": {
          "base_uri": "https://localhost:8080/"
        },
        "id": "45wcmg3yC5Bc",
        "outputId": "8c1897aa-1407-4fa8-a5f7-8006c9de24c5"
      },
      "execution_count": null,
      "outputs": [
        {
          "output_type": "stream",
          "name": "stdout",
          "text": [
            "                           domain\n",
            "0                        v2ai.top\n",
            "1      healthcareaustralia.com.au\n",
            "2                   roblox.com.ee\n",
            "3                globalsign.cloud\n",
            "4          searchlenderquotes.com\n",
            "...                           ...\n",
            "29995                pimalink.com\n",
            "29996           theherocompany.co\n",
            "29997      hendricktoyotaapex.com\n",
            "29998            springer-sbm.com\n",
            "29999              spicyonion.com\n",
            "\n",
            "[30000 rows x 1 columns]\n",
            "                       domain\n",
            "0                 jdpggtz.biz\n",
            "1            euufeagdjngs.com\n",
            "2              ontutotu.bazar\n",
            "3        fcffccdccmoaanle.com\n",
            "4                 yhcdrbr.net\n",
            "...                       ...\n",
            "29995            zlxyejhtl.eu\n",
            "29996  ede17f480038a.feedback\n",
            "29997          ywvusoyd.bazar\n",
            "29998        2a2jnbunhkl.life\n",
            "29999      rimgrejshtvucsf.ir\n",
            "\n",
            "[30000 rows x 1 columns]\n"
          ]
        }
      ]
    },
    {
      "cell_type": "code",
      "source": [
        "legit_domains['tld'] = [tldextract.extract(d).domain for d in legit_domains['domain']]\n",
        "dga_domains['tld'] = [tldextract.extract(d).domain for d in dga_domains['domain']]\n",
        "\n",
        "legit_domains = legit_domains[~legit_domains['tld'].str.contains('\\`|\\.')]\n",
        "dga_domains = dga_domains[~dga_domains['tld'].str.contains('\\`|\\.')]\n",
        "print(legit_domains)\n",
        "print(dga_domains)"
      ],
      "metadata": {
        "colab": {
          "base_uri": "https://localhost:8080/"
        },
        "id": "zB1KLCMhD5jz",
        "outputId": "5a1084ab-cae6-474e-cad7-4e6337e74077"
      },
      "execution_count": null,
      "outputs": [
        {
          "output_type": "stream",
          "name": "stdout",
          "text": [
            "                           domain                  tld\n",
            "0                        v2ai.top                 v2ai\n",
            "1      healthcareaustralia.com.au  healthcareaustralia\n",
            "2                   roblox.com.ee               roblox\n",
            "3                globalsign.cloud           globalsign\n",
            "4          searchlenderquotes.com   searchlenderquotes\n",
            "...                           ...                  ...\n",
            "29995                pimalink.com             pimalink\n",
            "29996           theherocompany.co       theherocompany\n",
            "29997      hendricktoyotaapex.com   hendricktoyotaapex\n",
            "29998            springer-sbm.com         springer-sbm\n",
            "29999              spicyonion.com           spicyonion\n",
            "\n",
            "[30000 rows x 2 columns]\n",
            "                       domain               tld\n",
            "0                 jdpggtz.biz           jdpggtz\n",
            "1            euufeagdjngs.com      euufeagdjngs\n",
            "2              ontutotu.bazar             bazar\n",
            "3        fcffccdccmoaanle.com  fcffccdccmoaanle\n",
            "4                 yhcdrbr.net           yhcdrbr\n",
            "...                       ...               ...\n",
            "29995            zlxyejhtl.eu         zlxyejhtl\n",
            "29996  ede17f480038a.feedback     ede17f480038a\n",
            "29997          ywvusoyd.bazar             bazar\n",
            "29998        2a2jnbunhkl.life       2a2jnbunhkl\n",
            "29999      rimgrejshtvucsf.ir   rimgrejshtvucsf\n",
            "\n",
            "[30000 rows x 2 columns]\n"
          ]
        }
      ]
    },
    {
      "cell_type": "code",
      "source": [
        "legit_domains = legit_domains.drop_duplicates()\n",
        "dga_domains = dga_domains.drop_duplicates()\n",
        "\n",
        "legit_domains['label'] = 0\n",
        "dga_domains['label'] = 1\n",
        "print(legit_domains)\n",
        "print(dga_domains)"
      ],
      "metadata": {
        "colab": {
          "base_uri": "https://localhost:8080/"
        },
        "id": "ud4B6mO5FghN",
        "outputId": "dfebe59b-20b2-44e6-c10a-b57b1d16845c"
      },
      "execution_count": null,
      "outputs": [
        {
          "output_type": "stream",
          "name": "stdout",
          "text": [
            "                           domain                  tld  label\n",
            "0                        v2ai.top                 v2ai      0\n",
            "1      healthcareaustralia.com.au  healthcareaustralia      0\n",
            "2                   roblox.com.ee               roblox      0\n",
            "3                globalsign.cloud           globalsign      0\n",
            "4          searchlenderquotes.com   searchlenderquotes      0\n",
            "...                           ...                  ...    ...\n",
            "29995                pimalink.com             pimalink      0\n",
            "29996           theherocompany.co       theherocompany      0\n",
            "29997      hendricktoyotaapex.com   hendricktoyotaapex      0\n",
            "29998            springer-sbm.com         springer-sbm      0\n",
            "29999              spicyonion.com           spicyonion      0\n",
            "\n",
            "[30000 rows x 3 columns]\n",
            "                       domain               tld  label\n",
            "0                 jdpggtz.biz           jdpggtz      1\n",
            "1            euufeagdjngs.com      euufeagdjngs      1\n",
            "2              ontutotu.bazar             bazar      1\n",
            "3        fcffccdccmoaanle.com  fcffccdccmoaanle      1\n",
            "4                 yhcdrbr.net           yhcdrbr      1\n",
            "...                       ...               ...    ...\n",
            "29995            zlxyejhtl.eu         zlxyejhtl      1\n",
            "29996  ede17f480038a.feedback     ede17f480038a      1\n",
            "29997          ywvusoyd.bazar             bazar      1\n",
            "29998        2a2jnbunhkl.life       2a2jnbunhkl      1\n",
            "29999      rimgrejshtvucsf.ir   rimgrejshtvucsf      1\n",
            "\n",
            "[28611 rows x 3 columns]\n"
          ]
        }
      ]
    },
    {
      "cell_type": "code",
      "source": [
        "all_domains = pd.concat([legit_domains, dga_domains], ignore_index=True)\n",
        "all_domains = all_domains.sample(frac=1).reset_index(drop=True)\n",
        "\n",
        "X, Y = all_domains['tld'], all_domains['label']\n",
        "print(X, Y)"
      ],
      "metadata": {
        "colab": {
          "base_uri": "https://localhost:8080/"
        },
        "id": "S7QXZHv_Fx8B",
        "outputId": "fa008d54-3629-4835-bd46-6a1ffd082fc5"
      },
      "execution_count": null,
      "outputs": [
        {
          "output_type": "stream",
          "name": "stdout",
          "text": [
            "0                    dxl\n",
            "1                 vpnkit\n",
            "2            dentalsuite\n",
            "3             unmissions\n",
            "4                imvrgxw\n",
            "              ...       \n",
            "58606         wupjajeoqu\n",
            "58607      873421a3f6795\n",
            "58608    mkgijapdgenkihd\n",
            "58609          chantelle\n",
            "58610        tacticalrmm\n",
            "Name: tld, Length: 58611, dtype: object 0        0\n",
            "1        0\n",
            "2        0\n",
            "3        0\n",
            "4        1\n",
            "        ..\n",
            "58606    1\n",
            "58607    1\n",
            "58608    1\n",
            "58609    0\n",
            "58610    0\n",
            "Name: label, Length: 58611, dtype: int64\n"
          ]
        }
      ]
    },
    {
      "cell_type": "code",
      "source": [
        "valid_chars = {x: idx + 1 for idx, x in enumerate(set(''.join(X)))}\n",
        "\n",
        "max_feature = len(valid_chars) + 1\n",
        "max_len = np.max([len(x) for x in X])\n",
        "print(f\"{max_feature = }\")\n",
        "print(f\"{max_len = }\")"
      ],
      "metadata": {
        "colab": {
          "base_uri": "https://localhost:8080/"
        },
        "id": "KInOv6zrGVwH",
        "outputId": "5668c09c-4039-483c-e1c2-fd72a8b42ebc"
      },
      "execution_count": null,
      "outputs": [
        {
          "output_type": "stream",
          "name": "stdout",
          "text": [
            "max_feature = 38\n",
            "max_len = 48\n"
          ]
        }
      ]
    },
    {
      "cell_type": "code",
      "source": [
        "X = [[valid_chars[y] for y in x] for x in X]\n",
        "X = pad_sequences(X, maxlen=max_len)\n",
        "print(X)"
      ],
      "metadata": {
        "colab": {
          "base_uri": "https://localhost:8080/"
        },
        "id": "xUCiPDFJGwLj",
        "outputId": "9233a5f2-dfa9-4bdd-b957-2931f00239eb"
      },
      "execution_count": null,
      "outputs": [
        {
          "output_type": "stream",
          "name": "stdout",
          "text": [
            "[[ 0  0  0 ... 12  3 21]\n",
            " [ 0  0  0 ... 37  5 29]\n",
            " [ 0  0  0 ...  5 29 10]\n",
            " ...\n",
            " [ 0  0  0 ...  5 17 12]\n",
            " [ 0  0  0 ... 21 21 10]\n",
            " [ 0  0  0 ... 14 19 19]]\n"
          ]
        }
      ]
    },
    {
      "cell_type": "code",
      "source": [
        "X_train, X_test, Y_train, Y_test = train_test_split(X, Y, test_size=0.2)\n",
        "print(X_train)\n",
        "print(X_test)\n",
        "print(Y_train)\n",
        "print(Y_test)"
      ],
      "metadata": {
        "colab": {
          "base_uri": "https://localhost:8080/"
        },
        "id": "CZNiifJWG91x",
        "outputId": "9db9fe10-c06d-4690-b809-b469953b8fa9"
      },
      "execution_count": null,
      "outputs": [
        {
          "output_type": "stream",
          "name": "stdout",
          "text": [
            "[[ 0  0  0 ... 29  2 35]\n",
            " [ 0  0  0 ... 27 31 14]\n",
            " [ 0  0  0 ... 22 27 19]\n",
            " ...\n",
            " [ 0  0  0 ...  5  3 12]\n",
            " [ 0  0  0 ... 26 26 21]\n",
            " [ 0  0  0 ... 28 16 35]]\n",
            "[[ 0  0  0 ...  5 15 24]\n",
            " [ 0  0  0 ... 31  5 21]\n",
            " [ 0  0  0 ...  5 29 28]\n",
            " ...\n",
            " [ 0  0  0 ...  2 20  3]\n",
            " [ 0  0  0 ...  3 25 17]\n",
            " [ 0  0  0 ... 11 19  9]]\n",
            "18959    1\n",
            "27330    1\n",
            "45133    1\n",
            "52120    0\n",
            "45662    0\n",
            "        ..\n",
            "55274    1\n",
            "23398    0\n",
            "18280    0\n",
            "17026    0\n",
            "33204    0\n",
            "Name: label, Length: 46888, dtype: int64\n",
            "44074    0\n",
            "12737    0\n",
            "37846    0\n",
            "48236    1\n",
            "5644     0\n",
            "        ..\n",
            "919      1\n",
            "14073    0\n",
            "21350    1\n",
            "14497    1\n",
            "29218    1\n",
            "Name: label, Length: 11723, dtype: int64\n"
          ]
        }
      ]
    },
    {
      "cell_type": "code",
      "source": [
        "model = Sequential()\n",
        "model.add(Embedding(max_feature, 128, input_length=max_len))\n",
        "model.add(LSTM(128))\n",
        "model.add(Dropout(0.5))\n",
        "model.add(Dense(1))\n",
        "model.add(Activation(\"sigmoid\"))\n",
        "model.compile(loss=\"binary_crossentropy\", optimizer=\"rmsprop\")"
      ],
      "metadata": {
        "id": "tvGUU12UHJvF"
      },
      "execution_count": null,
      "outputs": []
    },
    {
      "cell_type": "code",
      "source": [
        "for i in range(5):\n",
        "  model.fit(X_train, Y_train, batch_size=16, epochs=1)"
      ],
      "metadata": {
        "colab": {
          "base_uri": "https://localhost:8080/"
        },
        "id": "3qXIVLvEH6Q0",
        "outputId": "f0b67d94-a00a-4e5b-8e83-e1db37a77fa4"
      },
      "execution_count": null,
      "outputs": [
        {
          "output_type": "stream",
          "name": "stdout",
          "text": [
            "2931/2931 [==============================] - 30s 9ms/step - loss: 0.3170\n",
            "2931/2931 [==============================] - 22s 8ms/step - loss: 0.2352\n",
            "2931/2931 [==============================] - 21s 7ms/step - loss: 0.2040\n",
            "2931/2931 [==============================] - 22s 7ms/step - loss: 0.1859\n",
            "2931/2931 [==============================] - 25s 8ms/step - loss: 0.1730\n"
          ]
        }
      ]
    },
    {
      "cell_type": "code",
      "source": [
        "probs = model.predict(X_test)"
      ],
      "metadata": {
        "colab": {
          "base_uri": "https://localhost:8080/"
        },
        "id": "rCT6NyhFJ2yC",
        "outputId": "decbdfb9-0736-407a-ea64-1ab345ff8c91"
      },
      "execution_count": null,
      "outputs": [
        {
          "output_type": "stream",
          "name": "stdout",
          "text": [
            "367/367 [==============================] - 2s 4ms/step\n"
          ]
        }
      ]
    },
    {
      "cell_type": "code",
      "source": [
        "tn, fp, fn, tp = confusion_matrix(Y_test, probs > 0.5).ravel()\n",
        "\n",
        "print('TP: %d\\nTN: %d\\nFP: %d\\nFN: %d\\n' % (tp, tn, fp, fn))\n",
        "print('FP rate: %.3f%%\\nFN rate: %.3f%%\\n' % (fp / (fp + tn) * 100, fn / (fn + tn) * 100))\n",
        "\n",
        "print('Sensitivity: %.3f%%\\nSpecificity: %.3f%%\\nAccuracy: %.3f%%\\n' % (\n",
        "    tp / (tp + fn),\n",
        "    tn / (tn + fp),\n",
        "    (tp + tn) / (tp + tn + fp + fn)\n",
        "))\n",
        "\n",
        "print(\"AUC: %.3f%%\" % roc_auc_score(Y_test, probs))"
      ],
      "metadata": {
        "colab": {
          "base_uri": "https://localhost:8080/"
        },
        "id": "ZR1vDNmvLMWV",
        "outputId": "3e21d2de-5f35-464d-cc52-9e9d62399017"
      },
      "execution_count": null,
      "outputs": [
        {
          "output_type": "stream",
          "name": "stdout",
          "text": [
            "TP: 5149\n",
            "TN: 5793\n",
            "FP: 175\n",
            "FN: 606\n",
            "\n",
            "FP rate: 2.932%\n",
            "FN rate: 9.470%\n",
            "\n",
            "Sensitivity: 0.895%\n",
            "Specificity: 0.971%\n",
            "Accuracy: 0.933%\n",
            "\n",
            "AUC: 0.983%\n"
          ]
        }
      ]
    },
    {
      "cell_type": "code",
      "source": [
        "# Save models and config\n",
        "model.save(\"./model/dga_detection.v1.keras\")\n",
        "model.save_weights(\"./model/dga_detection.v1.h5\")\n",
        "\n",
        "conf = {\n",
        "    \"valid_chars\": valid_chars,\n",
        "    \"max_len\": int(max_len),\n",
        "    \"max_feature\": max_feature\n",
        "}\n",
        "json.dump(conf, open(\"./config.json\", \"w\"))"
      ],
      "metadata": {
        "id": "WlrMjpa9M9ik"
      },
      "execution_count": null,
      "outputs": []
    },
    {
      "cell_type": "code",
      "source": [
        "loaded_model = load_model(\"./model/dga_detection.v1.keras\")\n",
        "def predict(domains, threshold=0.5):\n",
        "  domain = [[valid_chars[ch] for ch in tldextract.extract(domain).domain] for domain in domains]\n",
        "  domain = pad_sequences(domain, maxlen=max_len)\n",
        "\n",
        "  predicted = loaded_model.predict(domain)\n",
        "\n",
        "  return (predicted > threshold).astype(int)\n",
        "\n",
        "print(predict([\"wikipedia.com\", \"youtube.com\", \"qwfoppqws.net\"]))"
      ],
      "metadata": {
        "colab": {
          "base_uri": "https://localhost:8080/"
        },
        "id": "s5D4FK6NIDgq",
        "outputId": "48a432dc-ccb4-42b6-d7c7-7c68b66cef11"
      },
      "execution_count": null,
      "outputs": [
        {
          "output_type": "stream",
          "name": "stdout",
          "text": [
            "1/1 [==============================] - 0s 318ms/step\n",
            "[[0]\n",
            " [0]\n",
            " [1]]\n"
          ]
        }
      ]
    }
  ]
}